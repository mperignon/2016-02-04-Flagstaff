{
 "cells": [
  {
   "cell_type": "markdown",
   "metadata": {},
   "source": [
    "## 04 - Using Pandas with tabular data\n",
    "\n",
    "http://mperignon.github.io/2016-02-04-flagstaff/lessons/python/04-pandas.html"
   ]
  },
  {
   "cell_type": "code",
   "execution_count": null,
   "metadata": {
    "collapsed": true
   },
   "outputs": [],
   "source": [
    "import pandas as pd"
   ]
  },
  {
   "cell_type": "code",
   "execution_count": null,
   "metadata": {
    "collapsed": true
   },
   "outputs": [],
   "source": [
    "data = pd.read_csv('streamgage.csv')"
   ]
  },
  {
   "cell_type": "code",
   "execution_count": null,
   "metadata": {
    "collapsed": false
   },
   "outputs": [],
   "source": [
    "data.head()"
   ]
  },
  {
   "cell_type": "code",
   "execution_count": null,
   "metadata": {
    "collapsed": false
   },
   "outputs": [],
   "source": [
    "new_column_names = ['Agency', 'Station', 'OldDateTime', 'Timezone', 'Q_cfs', 'Q_status', 'Stage_ft', 'Stage_status']"
   ]
  },
  {
   "cell_type": "code",
   "execution_count": null,
   "metadata": {
    "collapsed": false
   },
   "outputs": [],
   "source": [
    "data.columns = new_column_names"
   ]
  },
  {
   "cell_type": "code",
   "execution_count": null,
   "metadata": {
    "collapsed": false
   },
   "outputs": [],
   "source": [
    "data.head()"
   ]
  },
  {
   "cell_type": "code",
   "execution_count": null,
   "metadata": {
    "collapsed": false
   },
   "outputs": [],
   "source": [
    "data['Stage_m'] = data['Stage_ft'] * 0.3048"
   ]
  },
  {
   "cell_type": "code",
   "execution_count": null,
   "metadata": {
    "collapsed": false
   },
   "outputs": [],
   "source": [
    "data.head()"
   ]
  },
  {
   "cell_type": "code",
   "execution_count": null,
   "metadata": {
    "collapsed": false
   },
   "outputs": [],
   "source": [
    "new_station_name = \"0\" + str(data['Station'].unique()[0])\n",
    "\n",
    "print new_station_name"
   ]
  },
  {
   "cell_type": "code",
   "execution_count": null,
   "metadata": {
    "collapsed": false
   },
   "outputs": [],
   "source": [
    "data['Station'] = new_station_name"
   ]
  },
  {
   "cell_type": "code",
   "execution_count": null,
   "metadata": {
    "collapsed": false
   },
   "outputs": [],
   "source": [
    "data.dtypes"
   ]
  },
  {
   "cell_type": "code",
   "execution_count": null,
   "metadata": {
    "collapsed": false
   },
   "outputs": [],
   "source": [
    "data['DateTime'] = pd.to_datetime(data['OldDateTime'])"
   ]
  },
  {
   "cell_type": "code",
   "execution_count": null,
   "metadata": {
    "collapsed": false
   },
   "outputs": [],
   "source": [
    "data.head()"
   ]
  },
  {
   "cell_type": "code",
   "execution_count": null,
   "metadata": {
    "collapsed": false
   },
   "outputs": [],
   "source": [
    "clean_data = data[['Station','DateTime','Q_cfs','Stage_ft']]\n",
    "clean_data.head()"
   ]
  },
  {
   "cell_type": "code",
   "execution_count": null,
   "metadata": {
    "collapsed": true
   },
   "outputs": [],
   "source": [
    "import matplotlib.pyplot as plt\n",
    "%matplotlib inline"
   ]
  },
  {
   "cell_type": "code",
   "execution_count": null,
   "metadata": {
    "collapsed": false
   },
   "outputs": [],
   "source": [
    "plt.plot(data['DateTime'],data['Q_cfs'])"
   ]
  },
  {
   "cell_type": "code",
   "execution_count": null,
   "metadata": {
    "collapsed": false
   },
   "outputs": [],
   "source": [
    "data.plot(x='DateTime', y='Q_cfs', title = 'Station ' + new_station_name)\n",
    "plt.ylabel('Discharge')"
   ]
  },
  {
   "cell_type": "code",
   "execution_count": null,
   "metadata": {
    "collapsed": false
   },
   "outputs": [],
   "source": [
    "import pandas as pd\n",
    "\n",
    "data = pd.read_csv('streamgage.csv')\n",
    "\n",
    "new_column_names = ['Agency', 'Station', 'OldDateTime', 'Timezone', 'Q_cfs', 'Q_status', 'Stage_ft', 'Stage_status']\n",
    "data.columns = new_column_names\n",
    "\n",
    "new_station_name = \"0\" + str(data['Station'].unique()[0])\n",
    "data['Station'] = new_station_name\n",
    "\n",
    "data['DateTime'] = pd.to_datetime(data['OldDateTime'])\n",
    "\n",
    "data.plot(x='DateTime', y='Q_cfs', title = 'Station ' + new_station_name)\n",
    "plt.ylabel('Discharge')\n",
    "plt.savefig('discharge_' + new_station_name + '.png')"
   ]
  },
  {
   "cell_type": "markdown",
   "metadata": {},
   "source": [
    "## 05 - Automating with web services\n",
    "\n",
    "http://mperignon.github.io/2016-02-04-flagstaff/lessons/python/05-WebServices.html"
   ]
  },
  {
   "cell_type": "code",
   "execution_count": null,
   "metadata": {
    "collapsed": true
   },
   "outputs": [],
   "source": [
    "url = \"http://waterservices.usgs.gov/nwis/iv/?format=rdb&sites=09380000&startDT=2016-01-01&endDT=2016-01-10&parameterCd=00060,00065\""
   ]
  },
  {
   "cell_type": "code",
   "execution_count": null,
   "metadata": {
    "collapsed": false
   },
   "outputs": [],
   "source": [
    "data = pd.read_csv(url, comment='#', sep='\\t', header=1)"
   ]
  },
  {
   "cell_type": "code",
   "execution_count": null,
   "metadata": {
    "collapsed": false
   },
   "outputs": [],
   "source": [
    "data.head()"
   ]
  },
  {
   "cell_type": "code",
   "execution_count": null,
   "metadata": {
    "collapsed": false
   },
   "outputs": [],
   "source": [
    "data.dtypes"
   ]
  },
  {
   "cell_type": "code",
   "execution_count": null,
   "metadata": {
    "collapsed": false
   },
   "outputs": [],
   "source": [
    "import pandas as pd\n",
    "\n",
    "url = \"http://waterservices.usgs.gov/nwis/iv/?format=rdb&sites=09380000&startDT=2016-01-01&endDT=2016-01-10&parameterCd=00060,00065\"\n",
    "data = pd.read_csv(url, comment='#', sep='\\t', header=1)\n",
    "\n",
    "new_column_names = ['Agency', 'Station', 'OldDateTime', 'Timezone', 'Q_cfs', 'Q_status', 'Stage_ft', 'Stage_status']\n",
    "data.columns = new_column_names\n",
    "\n",
    "new_station_name = \"0\" + str(data['Station'].unique()[0])\n",
    "data['Station'] = new_station_name\n",
    "\n",
    "data['DateTime'] = pd.to_datetime(data['OldDateTime'])\n",
    "\n",
    "data.plot(x='DateTime', y='Q_cfs', title = 'Station ' + new_station_name)\n",
    "plt.ylabel('Discharge')\n",
    "plt.savefig('discharge_' + new_station_name + '.png')"
   ]
  },
  {
   "cell_type": "code",
   "execution_count": null,
   "metadata": {
    "collapsed": false
   },
   "outputs": [],
   "source": [
    "station_name = '09380000'\n",
    "\n",
    "url1 = 'http://waterservices.usgs.gov/nwis/iv/?'\n",
    "\n",
    "url2 = 'format=rdb'\n",
    "\n",
    "url3 = 'sites=' + station_name\n",
    "\n",
    "url4 = 'startDT=2016-01-01'\n",
    "\n",
    "url5 = 'endDT=2016-01-10'\n",
    "\n",
    "url6 = 'parameterCd=00060,00065'\n",
    "\n",
    "url = url1 + url2 + '&' + url3 + '&' + url4 + '&' + url5 + '&' + url6\n",
    "\n",
    "print url"
   ]
  },
  {
   "cell_type": "markdown",
   "metadata": {},
   "source": [
    "## 06 - Creating functions\n",
    "\n",
    "http://mperignon.github.io/2016-02-04-flagstaff/lessons/python/06-functions.html"
   ]
  },
  {
   "cell_type": "code",
   "execution_count": 1,
   "metadata": {
    "collapsed": true
   },
   "outputs": [],
   "source": [
    "def generate_url(name_of_station):\n",
    "    \n",
    "    url1 = 'http://waterservices.usgs.gov/nwis/iv/?'\n",
    "    url2 = 'format=rdb'\n",
    "    url3 = 'sites=' + name_of_station\n",
    "    url4 = 'startDT=2016-01-01'\n",
    "    url5 = 'endDT=2016-01-10'\n",
    "    url6 = 'parameterCd=00060,00065'\n",
    "\n",
    "    url = url1 + url2 + '&' + url3 + '&' + url4 + '&' + url5 + '&' + url6\n",
    "    \n",
    "    return url"
   ]
  },
  {
   "cell_type": "code",
   "execution_count": null,
   "metadata": {
    "collapsed": false
   },
   "outputs": [],
   "source": [
    "my_url = generate_url('09380000')\n",
    "\n",
    "print my_url"
   ]
  },
  {
   "cell_type": "code",
   "execution_count": 2,
   "metadata": {
    "collapsed": true
   },
   "outputs": [],
   "source": [
    "def import_data(url):\n",
    "    \n",
    "    data = pd.read_csv(url, comment='#', sep='\\t', header=1)\n",
    "\n",
    "    new_column_names = ['Agency', 'Station', 'OldDateTime', 'Timezone', 'Q_cfs', 'Q_status', 'Stage_ft', 'Stage_status']\n",
    "    data.columns = new_column_names\n",
    "\n",
    "    new_station_name = \"0\" + str(data['Station'].unique()[0])\n",
    "    data['Station'] = new_station_name\n",
    "\n",
    "    data['DateTime'] = pd.to_datetime(data['OldDateTime'])\n",
    "    \n",
    "    return data"
   ]
  },
  {
   "cell_type": "code",
   "execution_count": 3,
   "metadata": {
    "collapsed": true
   },
   "outputs": [],
   "source": [
    "def make_plots(dataFrame):\n",
    "    \n",
    "    new_station_name = \"0\" + str(dataFrame['Station'].unique()[0])\n",
    "    \n",
    "    dataFrame.plot(x='DateTime', y='Q_cfs')\n",
    "    plt.ylabel('Discharge')\n",
    "    plt.savefig('discharge_' + new_station_name + '.png')"
   ]
  },
  {
   "cell_type": "code",
   "execution_count": 4,
   "metadata": {
    "collapsed": false
   },
   "outputs": [
    {
     "data": {
      "image/png": "[encoded data removed]",
      "text/plain": [
       "<matplotlib.figure.Figure at 0x105a86e50>"
      ]
     },
     "metadata": {},
     "output_type": "display_data"
    }
   ],
   "source": [
    "#############\n",
    "\n",
    "station_name = '09380000'\n",
    "\n",
    "#############\n",
    "\n",
    "import pandas as pd\n",
    "import matplotlib.pyplot as plt\n",
    "%matplotlib inline\n",
    "\n",
    "my_url = generate_url(station_name)\n",
    "\n",
    "data = import_data(my_url)\n",
    "\n",
    "make_plots(data)"
   ]
  },
  {
   "cell_type": "markdown",
   "metadata": {
    "collapsed": true
   },
   "source": [
    "## Further lessons:\n",
    "\n",
    "http://mperignon.github.io/2016-02-04-flagstaff/lessons/python/"
   ]
  }
 ],
 "metadata": {
  "kernelspec": {
   "display_name": "Python 2",
   "language": "python",
   "name": "python2"
  },
  "language_info": {
   "codemirror_mode": {
    "name": "ipython",
    "version": 2
   },
   "file_extension": ".py",
   "mimetype": "text/x-python",
   "name": "python",
   "nbconvert_exporter": "python",
   "pygments_lexer": "ipython2",
   "version": "2.7.11"
  }
 },
 "nbformat": 4,
 "nbformat_minor": 0
}
