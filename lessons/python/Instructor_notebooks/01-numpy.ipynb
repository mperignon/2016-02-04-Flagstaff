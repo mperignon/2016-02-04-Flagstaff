{
 "cells": [
  {
   "cell_type": "markdown",
   "metadata": {},
   "source": [
    "## 01 - Analyzing temperature data\n",
    "\n",
    "http://mperignon.github.io/2016-02-04-flagstaff/lessons/python/01-numpy.html"
   ]
  },
  {
   "cell_type": "code",
   "execution_count": 1,
   "metadata": {
    "collapsed": true
   },
   "outputs": [],
   "source": [
    "import numpy"
   ]
  },
  {
   "cell_type": "code",
   "execution_count": 2,
   "metadata": {
    "collapsed": false,
    "scrolled": true
   },
   "outputs": [
    {
     "data": {
      "text/plain": [
       "array([[ 264.,  264.,  264., ...,  263.,  263.,  264.],\n",
       "       [ 263.,  264.,  264., ...,  262.,  262.,  263.],\n",
       "       [ 301.,  302.,  302., ...,  301.,  301.,  301.],\n",
       "       [ 292.,  293.,  293., ...,  291.,  292.,  292.]])"
      ]
     },
     "execution_count": 2,
     "metadata": {},
     "output_type": "execute_result"
    }
   ],
   "source": [
    "numpy.loadtxt(fname='temperature.csv', delimiter=',')"
   ]
  },
  {
   "cell_type": "code",
   "execution_count": 7,
   "metadata": {
    "collapsed": true
   },
   "outputs": [],
   "source": [
    "data = numpy.loadtxt(fname='temperature.csv', delimiter=',')"
   ]
  },
  {
   "cell_type": "code",
   "execution_count": 8,
   "metadata": {
    "collapsed": false
   },
   "outputs": [
    {
     "name": "stdout",
     "output_type": "stream",
     "text": [
      "[[ 264.  264.  264. ...,  263.  263.  264.]\n",
      " [ 263.  264.  264. ...,  262.  262.  263.]\n",
      " [ 301.  302.  302. ...,  301.  301.  301.]\n",
      " [ 292.  293.  293. ...,  291.  292.  292.]]\n"
     ]
    }
   ],
   "source": [
    "print data"
   ]
  },
  {
   "cell_type": "code",
   "execution_count": 9,
   "metadata": {
    "collapsed": false
   },
   "outputs": [
    {
     "name": "stdout",
     "output_type": "stream",
     "text": [
      "<type 'numpy.ndarray'>\n"
     ]
    }
   ],
   "source": [
    "print type(data)"
   ]
  },
  {
   "cell_type": "code",
   "execution_count": 10,
   "metadata": {
    "collapsed": false
   },
   "outputs": [
    {
     "data": {
      "text/plain": [
       "(4, 365)"
      ]
     },
     "execution_count": 10,
     "metadata": {},
     "output_type": "execute_result"
    }
   ],
   "source": [
    "data.shape"
   ]
  },
  {
   "cell_type": "code",
   "execution_count": 11,
   "metadata": {
    "collapsed": false
   },
   "outputs": [
    {
     "data": {
      "text/plain": [
       "264.0"
      ]
     },
     "execution_count": 11,
     "metadata": {},
     "output_type": "execute_result"
    }
   ],
   "source": [
    "data[0,0]"
   ]
  },
  {
   "cell_type": "code",
   "execution_count": 12,
   "metadata": {
    "collapsed": false
   },
   "outputs": [
    {
     "data": {
      "text/plain": [
       "712.0"
      ]
     },
     "execution_count": 12,
     "metadata": {},
     "output_type": "execute_result"
    }
   ],
   "source": [
    "data[2,200]"
   ]
  },
  {
   "cell_type": "code",
   "execution_count": 13,
   "metadata": {
    "collapsed": true
   },
   "outputs": [],
   "source": [
    "data = data / 10"
   ]
  },
  {
   "cell_type": "code",
   "execution_count": 14,
   "metadata": {
    "collapsed": false
   },
   "outputs": [
    {
     "data": {
      "text/plain": [
       "array([[ 26.4,  26.4,  26.4, ...,  26.3,  26.3,  26.4],\n",
       "       [ 26.3,  26.4,  26.4, ...,  26.2,  26.2,  26.3],\n",
       "       [ 30.1,  30.2,  30.2, ...,  30.1,  30.1,  30.1],\n",
       "       [ 29.2,  29.3,  29.3, ...,  29.1,  29.2,  29.2]])"
      ]
     },
     "execution_count": 14,
     "metadata": {},
     "output_type": "execute_result"
    }
   ],
   "source": [
    "data"
   ]
  },
  {
   "cell_type": "code",
   "execution_count": 15,
   "metadata": {
    "collapsed": false
   },
   "outputs": [
    {
     "data": {
      "text/plain": [
       "array([ 26.4,  26.4,  26.4,  26.5,  26.5])"
      ]
     },
     "execution_count": 15,
     "metadata": {},
     "output_type": "execute_result"
    }
   ],
   "source": [
    "data[0,0:5]"
   ]
  },
  {
   "cell_type": "code",
   "execution_count": 16,
   "metadata": {
    "collapsed": false
   },
   "outputs": [
    {
     "data": {
      "text/plain": [
       "array([[ 26.3,  26.3,  26.3,  26.3,  26.4]])"
      ]
     },
     "execution_count": 16,
     "metadata": {},
     "output_type": "execute_result"
    }
   ],
   "source": [
    "data[0:1,-5:]"
   ]
  },
  {
   "cell_type": "code",
   "execution_count": 17,
   "metadata": {
    "collapsed": false
   },
   "outputs": [
    {
     "data": {
      "text/plain": [
       "array([ 26.4,  26.3,  30.1,  29.2])"
      ]
     },
     "execution_count": 17,
     "metadata": {},
     "output_type": "execute_result"
    }
   ],
   "source": [
    "data[:,-1]"
   ]
  },
  {
   "cell_type": "code",
   "execution_count": 18,
   "metadata": {
    "collapsed": false
   },
   "outputs": [
    {
     "data": {
      "text/plain": [
       "array([[ 27.4,  27.3,  27.2,  27. ,  26.9],\n",
       "       [ 26.8,  26.7,  26.6,  26.5,  26.4],\n",
       "       [ 32.1,  31.9,  31.6,  31.5,  31.3],\n",
       "       [ 29.6,  29.5,  29.4,  29.3,  29.2]])"
      ]
     },
     "execution_count": 18,
     "metadata": {},
     "output_type": "execute_result"
    }
   ],
   "source": [
    "data[:,-20:-15]"
   ]
  },
  {
   "cell_type": "code",
   "execution_count": 19,
   "metadata": {
    "collapsed": false
   },
   "outputs": [
    {
     "data": {
      "text/plain": [
       "array([[ 26.4,  26.4,  26.4,  26.5,  26.5],\n",
       "       [ 26.3,  26.4,  26.4,  26.5,  26.5]])"
      ]
     },
     "execution_count": 19,
     "metadata": {},
     "output_type": "execute_result"
    }
   ],
   "source": [
    "data[0:2,0:5]"
   ]
  },
  {
   "cell_type": "code",
   "execution_count": 20,
   "metadata": {
    "collapsed": false
   },
   "outputs": [
    {
     "data": {
      "text/plain": [
       "45.783767123287674"
      ]
     },
     "execution_count": 20,
     "metadata": {},
     "output_type": "execute_result"
    }
   ],
   "source": [
    "data.mean()"
   ]
  },
  {
   "cell_type": "code",
   "execution_count": 21,
   "metadata": {
    "collapsed": false
   },
   "outputs": [
    {
     "data": {
      "text/plain": [
       "71.400000000000006"
      ]
     },
     "execution_count": 21,
     "metadata": {},
     "output_type": "execute_result"
    }
   ],
   "source": [
    "data.max()"
   ]
  },
  {
   "cell_type": "code",
   "execution_count": 22,
   "metadata": {
    "collapsed": false
   },
   "outputs": [
    {
     "data": {
      "text/plain": [
       "26.100000000000001"
      ]
     },
     "execution_count": 22,
     "metadata": {},
     "output_type": "execute_result"
    }
   ],
   "source": [
    "data.min()"
   ]
  },
  {
   "cell_type": "code",
   "execution_count": 23,
   "metadata": {
    "collapsed": false
   },
   "outputs": [
    {
     "data": {
      "text/plain": [
       "13.379753803272294"
      ]
     },
     "execution_count": 23,
     "metadata": {},
     "output_type": "execute_result"
    }
   ],
   "source": [
    "data.std()"
   ]
  },
  {
   "cell_type": "code",
   "execution_count": 24,
   "metadata": {
    "collapsed": true
   },
   "outputs": [],
   "source": [
    "station0 = data[0,:]"
   ]
  },
  {
   "cell_type": "code",
   "execution_count": 27,
   "metadata": {
    "collapsed": false
   },
   "outputs": [
    {
     "data": {
      "text/plain": [
       "64.099999999999994"
      ]
     },
     "execution_count": 27,
     "metadata": {},
     "output_type": "execute_result"
    }
   ],
   "source": [
    "station0.max()"
   ]
  },
  {
   "cell_type": "code",
   "execution_count": 28,
   "metadata": {
    "collapsed": false
   },
   "outputs": [
    {
     "data": {
      "text/plain": [
       "64.099999999999994"
      ]
     },
     "execution_count": 28,
     "metadata": {},
     "output_type": "execute_result"
    }
   ],
   "source": [
    "data[0,:].max()"
   ]
  },
  {
   "cell_type": "code",
   "execution_count": 31,
   "metadata": {
    "collapsed": false
   },
   "outputs": [
    {
     "data": {
      "text/plain": [
       "array([ 30.1,  30.2,  30.2,  30.2,  30.3,  30.3,  30.4,  30.4,  30.5,\n",
       "        30.6,  30.6,  30.7,  30.8,  30.9,  30.9,  31. ,  31.1,  31.2,\n",
       "        31.3,  31.4,  31.5,  31.6,  31.7,  31.8,  31.9,  32. ,  32.1,\n",
       "        32.3,  32.4,  32.5,  32.6,  32.8,  32.9,  33.1,  33.2,  33.4,\n",
       "        33.5,  33.7,  33.9,  34. ,  34.2,  34.4,  34.6,  34.8,  35. ,\n",
       "        35.2,  35.4,  35.6,  35.8,  36. ,  36.2,  36.4,  36.6,  36.8,\n",
       "        37. ,  37.2,  37.4,  37.6,  37.8,  38. ,  38.2,  38.4,  38.6,\n",
       "        38.8,  39. ,  39.2,  39.4,  39.5,  39.7,  39.9,  40. ,  40.2,\n",
       "        40.3,  40.5,  40.7,  40.8,  41. ,  41.1,  41.2,  41.4,  41.5,\n",
       "        41.7,  41.8,  42. ,  42.2,  42.3,  42.5,  42.7,  42.8,  43. ,\n",
       "        43.2,  43.4,  43.6,  43.8,  44. ,  44.3,  44.5,  44.7,  45. ,\n",
       "        45.2,  45.5,  45.8,  46.1,  46.4,  46.7,  47. ,  47.3,  47.6,\n",
       "        47.9,  48.3,  48.6,  48.9,  49.3,  49.6,  50. ,  50.3,  50.6,\n",
       "        51. ,  51.3,  51.7,  52. ,  52.4,  52.7,  53. ,  53.4,  53.7,\n",
       "        54. ,  54.3,  54.6,  54.9,  55.2,  55.5,  55.8,  56.1,  56.4,\n",
       "        56.6,  56.9,  57.2,  57.4,  57.7,  58. ,  58.2,  58.5,  58.7,\n",
       "        59. ,  59.2,  59.5,  59.8,  60. ,  60.3,  60.6,  60.8,  61.1,\n",
       "        61.4,  61.7,  62. ,  62.3,  62.6,  62.9,  63.2,  63.5,  63.8,\n",
       "        64.1,  64.4,  64.8,  65.1,  65.4,  65.7,  66.1,  66.4,  66.7,\n",
       "        67. ,  67.3,  67.7,  68. ,  68.3,  68.5,  68.8,  69.1,  69.3,\n",
       "        69.6,  69.8,  70. ,  70.2,  70.4,  70.6,  70.8,  70.9,  71. ,\n",
       "        71.1,  71.2,  71.3,  71.4,  71.4,  71.4,  71.4,  71.4,  71.4,\n",
       "        71.4,  71.3,  71.2,  71.2,  71.1,  71. ,  70.9,  70.8,  70.6,\n",
       "        70.5,  70.4,  70.2,  70.1,  69.9,  69.8,  69.6,  69.5,  69.4,\n",
       "        69.2,  69.1,  68.9,  68.8,  68.7,  68.5,  68.4,  68.3,  68.2,\n",
       "        68.1,  67.9,  67.8,  67.7,  67.6,  67.5,  67.4,  67.3,  67.2,\n",
       "        67.1,  67. ,  66.9,  66.8,  66.7,  66.5,  66.4,  66.3,  66.1,\n",
       "        66. ,  65.8,  65.6,  65.4,  65.2,  65. ,  64.8,  64.6,  64.3,\n",
       "        64. ,  63.8,  63.5,  63.2,  62.8,  62.5,  62.2,  61.8,  61.4,\n",
       "        61. ,  60.6,  60.2,  59.8,  59.4,  59. ,  58.6,  58.1,  57.7,\n",
       "        57.2,  56.8,  56.4,  55.9,  55.5,  55. ,  54.6,  54.2,  53.7,\n",
       "        53.3,  52.9,  52.5,  52.1,  51.7,  51.3,  50.9,  50.6,  50.2,\n",
       "        49.8,  49.5,  49.2,  48.8,  48.5,  48.2,  47.9,  47.6,  47.3,\n",
       "        47. ,  46.8,  46.5,  46.2,  45.9,  45.7,  45.4,  45.1,  44.8,\n",
       "        44.6,  44.3,  44. ,  43.7,  43.4,  43.1,  42.8,  42.5,  42.2,\n",
       "        41.9,  41.6,  41.3,  40.9,  40.6,  40.2,  39.9,  39.6,  39.2,\n",
       "        38.8,  38.5,  38.1,  37.8,  37.4,  37. ,  36.7,  36.3,  36. ,\n",
       "        35.6,  35.3,  34.9,  34.6,  34.3,  34. ,  33.7,  33.4,  33.1,\n",
       "        32.8,  32.6,  32.3,  32.1,  31.9,  31.6,  31.5,  31.3,  31.1,\n",
       "        31. ,  30.8,  30.7,  30.6,  30.5,  30.4,  30.3,  30.3,  30.2,\n",
       "        30.2,  30.2,  30.1,  30.1,  30.1])"
      ]
     },
     "execution_count": 31,
     "metadata": {},
     "output_type": "execute_result"
    }
   ],
   "source": [
    "data.max(axis=0)"
   ]
  },
  {
   "cell_type": "code",
   "execution_count": 32,
   "metadata": {
    "collapsed": false
   },
   "outputs": [
    {
     "data": {
      "text/plain": [
       "array([ 64.1,  62.4,  71.4,  66.6])"
      ]
     },
     "execution_count": 32,
     "metadata": {},
     "output_type": "execute_result"
    }
   ],
   "source": [
    "data.max(axis=1)"
   ]
  },
  {
   "cell_type": "code",
   "execution_count": 34,
   "metadata": {
    "collapsed": false
   },
   "outputs": [],
   "source": [
    "import matplotlib\n",
    "%matplotlib inline"
   ]
  },
  {
   "cell_type": "code",
   "execution_count": 35,
   "metadata": {
    "collapsed": false
   },
   "outputs": [
    {
     "data": {
      "text/plain": [
       "<matplotlib.image.AxesImage at 0x1048264d0>"
      ]
     },
     "execution_count": 35,
     "metadata": {},
     "output_type": "execute_result"
    },
    {
     "data": {
      "image/png": "[encoded data removed]",
      "text/plain": [
       "<matplotlib.figure.Figure at 0x10477fe90>"
      ]
     },
     "metadata": {},
     "output_type": "display_data"
    }
   ],
   "source": [
    "matplotlib.pyplot.imshow(data)"
   ]
  },
  {
   "cell_type": "code",
   "execution_count": 36,
   "metadata": {
    "collapsed": false
   },
   "outputs": [
    {
     "data": {
      "image/png": "[encoded data removed]",
      "text/plain": [
       "<matplotlib.figure.Figure at 0x10485f8d0>"
      ]
     },
     "metadata": {},
     "output_type": "display_data"
    }
   ],
   "source": [
    "matplotlib.pyplot.imshow(data)\n",
    "matplotlib.pyplot.axes().set_aspect('auto')"
   ]
  },
  {
   "cell_type": "code",
   "execution_count": 38,
   "metadata": {
    "collapsed": false
   },
   "outputs": [
    {
     "data": {
      "text/plain": [
       "[<matplotlib.lines.Line2D at 0x104e3c9d0>]"
      ]
     },
     "execution_count": 38,
     "metadata": {},
     "output_type": "execute_result"
    },
    {
     "data": {
      "image/png": "[encoded data removed]",
      "text/plain": [
       "<matplotlib.figure.Figure at 0x1038adb50>"
      ]
     },
     "metadata": {},
     "output_type": "display_data"
    }
   ],
   "source": [
    "matplotlib.pyplot.xkcd()\n",
    "ave_temp = data.mean(axis=0)\n",
    "matplotlib.pyplot.plot(ave_temp)"
   ]
  },
  {
   "cell_type": "code",
   "execution_count": 45,
   "metadata": {
    "collapsed": false
   },
   "outputs": [
    {
     "data": {
      "image/png": "[encoded data removed]",
      "text/plain": [
       "<matplotlib.figure.Figure at 0x106604f90>"
      ]
     },
     "metadata": {},
     "output_type": "display_data"
    }
   ],
   "source": [
    "from matplotlib import pyplot as plt\n",
    "import numpy as np\n",
    "\n",
    "data = np.loadtxt(fname = 'temperature.csv', delimiter = ',')\n",
    "\n",
    "fig = plt.figure(figsize = (5., 9.))\n",
    "\n",
    "axes1 = fig.add_subplot(3,1,1)\n",
    "axes2 = fig.add_subplot(3,1,2)\n",
    "axes3 = fig.add_subplot(3,1,3)\n",
    "\n",
    "axes1.set_ylabel('max')\n",
    "axes1.plot(data.max(axis=0))\n",
    "\n",
    "axes2.set_ylabel('min')\n",
    "axes2.plot(data.min(axis=0))\n",
    "\n",
    "axes3.set_ylabel('std')\n",
    "axes3.plot(data.std(axis=0))\n",
    "\n",
    "plt.show(fig)"
   ]
  },
  {
   "cell_type": "code",
   "execution_count": 44,
   "metadata": {
    "collapsed": false
   },
   "outputs": [
    {
     "data": {
      "text/plain": [
       "(365,)"
      ]
     },
     "execution_count": 44,
     "metadata": {},
     "output_type": "execute_result"
    }
   ],
   "source": [
    "data.max(axis=0).shape"
   ]
  },
  {
   "cell_type": "code",
   "execution_count": 46,
   "metadata": {
    "collapsed": false
   },
   "outputs": [
    {
     "data": {
      "text/plain": [
       "array([ 301.,  302.,  302.,  302.,  303.,  303.,  304.,  304.,  305.,\n",
       "        306.,  306.,  307.,  308.,  309.,  309.,  310.,  311.,  312.,\n",
       "        313.,  314.,  315.,  316.,  317.,  318.,  319.,  320.,  321.,\n",
       "        323.,  324.,  325.,  326.,  328.,  329.,  331.,  332.,  334.,\n",
       "        335.,  337.,  339.,  340.,  342.,  344.,  346.,  348.,  350.,\n",
       "        352.,  354.,  356.,  358.,  360.,  362.,  364.,  366.,  368.,\n",
       "        370.,  372.,  374.,  376.,  378.,  380.,  382.,  384.,  386.,\n",
       "        388.,  390.,  392.,  394.,  395.,  397.,  399.,  400.,  402.,\n",
       "        403.,  405.,  407.,  408.,  410.,  411.,  412.,  414.,  415.,\n",
       "        417.,  418.,  420.,  422.,  423.,  425.,  427.,  428.,  430.,\n",
       "        432.,  434.,  436.,  438.,  440.,  443.,  445.,  447.,  450.,\n",
       "        452.,  455.,  458.,  461.,  464.,  467.,  470.,  473.,  476.,\n",
       "        479.,  483.,  486.,  489.,  493.,  496.,  500.,  503.,  506.,\n",
       "        510.,  513.,  517.,  520.,  524.,  527.,  530.,  534.,  537.,\n",
       "        540.,  543.,  546.,  549.,  552.,  555.,  558.,  561.,  564.,\n",
       "        566.,  569.,  572.,  574.,  577.,  580.,  582.,  585.,  587.,\n",
       "        590.,  592.,  595.,  598.,  600.,  603.,  606.,  608.,  611.,\n",
       "        614.,  617.,  620.,  623.,  626.,  629.,  632.,  635.,  638.,\n",
       "        641.,  644.,  648.,  651.,  654.,  657.,  661.,  664.,  667.,\n",
       "        670.,  673.,  677.,  680.,  683.,  685.,  688.,  691.,  693.,\n",
       "        696.,  698.,  700.,  702.,  704.,  706.,  708.,  709.,  710.,\n",
       "        711.,  712.,  713.,  714.,  714.,  714.,  714.,  714.,  714.,\n",
       "        714.,  713.,  712.,  712.,  711.,  710.,  709.,  708.,  706.,\n",
       "        705.,  704.,  702.,  701.,  699.,  698.,  696.,  695.,  694.,\n",
       "        692.,  691.,  689.,  688.,  687.,  685.,  684.,  683.,  682.,\n",
       "        681.,  679.,  678.,  677.,  676.,  675.,  674.,  673.,  672.,\n",
       "        671.,  670.,  669.,  668.,  667.,  665.,  664.,  663.,  661.,\n",
       "        660.,  658.,  656.,  654.,  652.,  650.,  648.,  646.,  643.,\n",
       "        640.,  638.,  635.,  632.,  628.,  625.,  622.,  618.,  614.,\n",
       "        610.,  606.,  602.,  598.,  594.,  590.,  586.,  581.,  577.,\n",
       "        572.,  568.,  564.,  559.,  555.,  550.,  546.,  542.,  537.,\n",
       "        533.,  529.,  525.,  521.,  517.,  513.,  509.,  506.,  502.,\n",
       "        498.,  495.,  492.,  488.,  485.,  482.,  479.,  476.,  473.,\n",
       "        470.,  468.,  465.,  462.,  459.,  457.,  454.,  451.,  448.,\n",
       "        446.,  443.,  440.,  437.,  434.,  431.,  428.,  425.,  422.,\n",
       "        419.,  416.,  413.,  409.,  406.,  402.,  399.,  396.,  392.,\n",
       "        388.,  385.,  381.,  378.,  374.,  370.,  367.,  363.,  360.,\n",
       "        356.,  353.,  349.,  346.,  343.,  340.,  337.,  334.,  331.,\n",
       "        328.,  326.,  323.,  321.,  319.,  316.,  315.,  313.,  311.,\n",
       "        310.,  308.,  307.,  306.,  305.,  304.,  303.,  303.,  302.,\n",
       "        302.,  302.,  301.,  301.,  301.])"
      ]
     },
     "execution_count": 46,
     "metadata": {},
     "output_type": "execute_result"
    }
   ],
   "source": [
    "data.max(axis=0)"
   ]
  },
  {
   "cell_type": "markdown",
   "metadata": {},
   "source": [
    "## 02 - Storing multiple values in lists\n",
    "\n",
    "http://mperignon.github.io/2016-02-04-flagstaff/lessons/python/02-lists.html"
   ]
  },
  {
   "cell_type": "code",
   "execution_count": 49,
   "metadata": {
    "collapsed": false
   },
   "outputs": [
    {
     "name": "stdout",
     "output_type": "stream",
     "text": [
      "[1, 3, 5, 7]\n"
     ]
    }
   ],
   "source": [
    "odds = [1, 3, 5, 7]\n",
    "\n",
    "print odds"
   ]
  },
  {
   "cell_type": "code",
   "execution_count": 50,
   "metadata": {
    "collapsed": false
   },
   "outputs": [
    {
     "data": {
      "text/plain": [
       "1"
      ]
     },
     "execution_count": 50,
     "metadata": {},
     "output_type": "execute_result"
    }
   ],
   "source": [
    "odds[0]"
   ]
  },
  {
   "cell_type": "code",
   "execution_count": 51,
   "metadata": {
    "collapsed": false
   },
   "outputs": [
    {
     "data": {
      "text/plain": [
       "7"
      ]
     },
     "execution_count": 51,
     "metadata": {},
     "output_type": "execute_result"
    }
   ],
   "source": [
    "odds[-1]"
   ]
  },
  {
   "cell_type": "code",
   "execution_count": 52,
   "metadata": {
    "collapsed": true
   },
   "outputs": [],
   "source": [
    "odds[-1] = 9"
   ]
  },
  {
   "cell_type": "code",
   "execution_count": 53,
   "metadata": {
    "collapsed": false
   },
   "outputs": [
    {
     "data": {
      "text/plain": [
       "[1, 3, 5, 9]"
      ]
     },
     "execution_count": 53,
     "metadata": {},
     "output_type": "execute_result"
    }
   ],
   "source": [
    "odds"
   ]
  },
  {
   "cell_type": "code",
   "execution_count": 54,
   "metadata": {
    "collapsed": false
   },
   "outputs": [
    {
     "name": "stdout",
     "output_type": "stream",
     "text": [
      "[1, 3, 5, 9, 11]\n"
     ]
    }
   ],
   "source": [
    "odds.append(11)\n",
    "\n",
    "print odds"
   ]
  },
  {
   "cell_type": "code",
   "execution_count": 55,
   "metadata": {
    "collapsed": false
   },
   "outputs": [
    {
     "name": "stdout",
     "output_type": "stream",
     "text": [
      "[3, 5, 9, 11]\n"
     ]
    }
   ],
   "source": [
    "del odds[0]\n",
    "\n",
    "print odds"
   ]
  },
  {
   "cell_type": "code",
   "execution_count": 56,
   "metadata": {
    "collapsed": false
   },
   "outputs": [
    {
     "name": "stdout",
     "output_type": "stream",
     "text": [
      "[11, 9, 5, 3]\n"
     ]
    }
   ],
   "source": [
    "odds.reverse()\n",
    "\n",
    "print odds"
   ]
  },
  {
   "cell_type": "code",
   "execution_count": 57,
   "metadata": {
    "collapsed": false
   },
   "outputs": [
    {
     "name": "stdout",
     "output_type": "stream",
     "text": [
      "['Newton', 'Darwin', 'Turing']\n"
     ]
    }
   ],
   "source": [
    "names = ['Newton', 'Darwin', 'Turing']\n",
    "print names"
   ]
  },
  {
   "cell_type": "code",
   "execution_count": 58,
   "metadata": {
    "collapsed": false
   },
   "outputs": [
    {
     "name": "stdout",
     "output_type": "stream",
     "text": [
      "['Bell', 'Darwin', 'Turing']\n"
     ]
    }
   ],
   "source": [
    "names[0] = 'Bell'\n",
    "\n",
    "print names"
   ]
  },
  {
   "cell_type": "code",
   "execution_count": 60,
   "metadata": {
    "collapsed": false
   },
   "outputs": [
    {
     "ename": "TypeError",
     "evalue": "'str' object does not support item assignment",
     "output_type": "error",
     "traceback": [
      "\u001b[0;31m---------------------------------------------------------------------------\u001b[0m",
      "\u001b[0;31mTypeError\u001b[0m                                 Traceback (most recent call last)",
      "\u001b[0;32m<ipython-input-60-b01c8244929d>\u001b[0m in \u001b[0;36m<module>\u001b[0;34m()\u001b[0m\n\u001b[1;32m      1\u001b[0m \u001b[0mname\u001b[0m \u001b[0;34m=\u001b[0m \u001b[0;34m'Bell'\u001b[0m\u001b[0;34m\u001b[0m\u001b[0m\n\u001b[1;32m      2\u001b[0m \u001b[0;34m\u001b[0m\u001b[0m\n\u001b[0;32m----> 3\u001b[0;31m \u001b[0mname\u001b[0m\u001b[0;34m[\u001b[0m\u001b[0;36m0\u001b[0m\u001b[0;34m]\u001b[0m \u001b[0;34m=\u001b[0m \u001b[0;34m'b'\u001b[0m\u001b[0;34m\u001b[0m\u001b[0m\n\u001b[0m",
      "\u001b[0;31mTypeError\u001b[0m: 'str' object does not support item assignment"
     ]
    }
   ],
   "source": [
    "name = 'Bell'\n",
    "\n",
    "name[0] = 'b'"
   ]
  },
  {
   "cell_type": "code",
   "execution_count": 62,
   "metadata": {
    "collapsed": false
   },
   "outputs": [
    {
     "name": "stdout",
     "output_type": "stream",
     "text": [
      "[1, 3, 5, 7, 2]\n",
      "[1, 3, 5, 7, 2]\n"
     ]
    }
   ],
   "source": [
    "odds = [1, 3, 5, 7]\n",
    "primes = odds\n",
    "primes = primes + [2]\n",
    "\n",
    "print primes\n",
    "print odds"
   ]
  },
  {
   "cell_type": "code",
   "execution_count": 63,
   "metadata": {
    "collapsed": true
   },
   "outputs": [],
   "source": [
    "primes = list(odds)"
   ]
  },
  {
   "cell_type": "markdown",
   "metadata": {},
   "source": [
    "## 03 - Repeating actions with loops and making choices\n",
    "\n",
    "http://mperignon.github.io/2016-02-04-flagstaff/lessons/python/03-loops.html"
   ]
  },
  {
   "cell_type": "code",
   "execution_count": 64,
   "metadata": {
    "collapsed": false
   },
   "outputs": [
    {
     "name": "stdout",
     "output_type": "stream",
     "text": [
      "[1, 3, 5, 7]\n"
     ]
    }
   ],
   "source": [
    "odds = [1,3,5,7]\n",
    "print odds"
   ]
  },
  {
   "cell_type": "code",
   "execution_count": 66,
   "metadata": {
    "collapsed": false
   },
   "outputs": [
    {
     "name": "stdout",
     "output_type": "stream",
     "text": [
      "1\n",
      "3\n"
     ]
    },
    {
     "ename": "IndexError",
     "evalue": "list index out of range",
     "output_type": "error",
     "traceback": [
      "\u001b[0;31m---------------------------------------------------------------------------\u001b[0m",
      "\u001b[0;31mIndexError\u001b[0m                                Traceback (most recent call last)",
      "\u001b[0;32m<ipython-input-66-65c9d984149a>\u001b[0m in \u001b[0;36m<module>\u001b[0;34m()\u001b[0m\n\u001b[1;32m      1\u001b[0m \u001b[0;32mprint\u001b[0m \u001b[0modds\u001b[0m\u001b[0;34m[\u001b[0m\u001b[0;36m0\u001b[0m\u001b[0;34m]\u001b[0m\u001b[0;34m\u001b[0m\u001b[0m\n\u001b[1;32m      2\u001b[0m \u001b[0;32mprint\u001b[0m \u001b[0modds\u001b[0m\u001b[0;34m[\u001b[0m\u001b[0;36m1\u001b[0m\u001b[0;34m]\u001b[0m\u001b[0;34m\u001b[0m\u001b[0m\n\u001b[0;32m----> 3\u001b[0;31m \u001b[0;32mprint\u001b[0m \u001b[0modds\u001b[0m\u001b[0;34m[\u001b[0m\u001b[0;36m5\u001b[0m\u001b[0;34m]\u001b[0m\u001b[0;34m\u001b[0m\u001b[0m\n\u001b[0m",
      "\u001b[0;31mIndexError\u001b[0m: list index out of range"
     ]
    }
   ],
   "source": [
    "print odds[0]\n",
    "print odds[1]\n",
    "print odds[5]"
   ]
  },
  {
   "cell_type": "code",
   "execution_count": 71,
   "metadata": {
    "collapsed": false
   },
   "outputs": [
    {
     "name": "stdout",
     "output_type": "stream",
     "text": [
      "6\n",
      "n\n"
     ]
    }
   ],
   "source": [
    "word = 'oxygen'\n",
    "length = 0\n",
    "\n",
    "for letter in word:\n",
    "    length = length + 1\n",
    "    \n",
    "print length\n",
    "print letter"
   ]
  },
  {
   "cell_type": "code",
   "execution_count": 72,
   "metadata": {
    "collapsed": false
   },
   "outputs": [
    {
     "data": {
      "text/plain": [
       "6"
      ]
     },
     "execution_count": 72,
     "metadata": {},
     "output_type": "execute_result"
    }
   ],
   "source": [
    "len(word)"
   ]
  },
  {
   "cell_type": "code",
   "execution_count": 75,
   "metadata": {
    "collapsed": false
   },
   "outputs": [
    {
     "name": "stdout",
     "output_type": "stream",
     "text": [
      "25\n",
      "125\n",
      "625\n"
     ]
    }
   ],
   "source": [
    "my_list = [5,5,5]\n",
    "var = 5\n",
    "for thing in my_list:\n",
    "    var = var * thing\n",
    "    print var"
   ]
  },
  {
   "cell_type": "code",
   "execution_count": 84,
   "metadata": {
    "collapsed": false
   },
   "outputs": [
    {
     "name": "stdout",
     "output_type": "stream",
     "text": [
      "n\n",
      "o\n",
      "t\n",
      "w\n",
      "e\n",
      "N\n"
     ]
    }
   ],
   "source": [
    "name = 'Newton'\n",
    "position = -1\n",
    "\n",
    "for letter in name:\n",
    "    print name[position]\n",
    "    position = position - 1"
   ]
  },
  {
   "cell_type": "code",
   "execution_count": 90,
   "metadata": {
    "collapsed": false
   },
   "outputs": [
    {
     "name": "stdout",
     "output_type": "stream",
     "text": [
      "greater\n",
      "done\n"
     ]
    }
   ],
   "source": [
    "num = 150\n",
    "\n",
    "if num > 100:\n",
    "    print 'greater'\n",
    "elif num == 100:\n",
    "    print 'equal'\n",
    "else:\n",
    "    print 'not greater'\n",
    "\n",
    "print 'done'"
   ]
  },
  {
   "cell_type": "code",
   "execution_count": 94,
   "metadata": {
    "collapsed": false
   },
   "outputs": [
    {
     "name": "stdout",
     "output_type": "stream",
     "text": [
      "test is true\n"
     ]
    }
   ],
   "source": [
    "if (1 > 0) or (1 < -2):\n",
    "    print 'test is true'\n",
    "else:\n",
    "    print 'test is not true'"
   ]
  },
  {
   "cell_type": "code",
   "execution_count": 99,
   "metadata": {
    "collapsed": false
   },
   "outputs": [
    {
     "name": "stdout",
     "output_type": "stream",
     "text": [
      "A\n",
      "B\n",
      "C\n"
     ]
    }
   ],
   "source": [
    "if 5 >= 5:\n",
    "    print 'A'\n",
    "    \n",
    "    if 5 == 5:\n",
    "        print 'B'\n",
    "\n",
    "        if 5 <= 5:\n",
    "            print 'C'"
   ]
  },
  {
   "cell_type": "code",
   "execution_count": 100,
   "metadata": {
    "collapsed": true
   },
   "outputs": [],
   "source": [
    "a = 5 < 10"
   ]
  },
  {
   "cell_type": "code",
   "execution_count": 101,
   "metadata": {
    "collapsed": false
   },
   "outputs": [
    {
     "data": {
      "text/plain": [
       "True"
      ]
     },
     "execution_count": 101,
     "metadata": {},
     "output_type": "execute_result"
    }
   ],
   "source": [
    "a"
   ]
  },
  {
   "cell_type": "code",
   "execution_count": 103,
   "metadata": {
    "collapsed": false
   },
   "outputs": [],
   "source": [
    "test_data = data < 400"
   ]
  },
  {
   "cell_type": "code",
   "execution_count": 104,
   "metadata": {
    "collapsed": false
   },
   "outputs": [
    {
     "name": "stdout",
     "output_type": "stream",
     "text": [
      "[[ True  True  True ...,  True  True  True]\n",
      " [ True  True  True ...,  True  True  True]\n",
      " [ True  True  True ...,  True  True  True]\n",
      " [ True  True  True ...,  True  True  True]]\n"
     ]
    }
   ],
   "source": [
    "print test_data"
   ]
  },
  {
   "cell_type": "code",
   "execution_count": 105,
   "metadata": {
    "collapsed": false
   },
   "outputs": [
    {
     "data": {
      "text/plain": [
       "<matplotlib.image.AxesImage at 0x1065d6850>"
      ]
     },
     "execution_count": 105,
     "metadata": {},
     "output_type": "execute_result"
    },
    {
     "data": {
      "image/png": "[encoded data removed]",
      "text/plain": [
       "<matplotlib.figure.Figure at 0x1074d8190>"
      ]
     },
     "metadata": {},
     "output_type": "display_data"
    }
   ],
   "source": [
    "plt.matshow(test_data)"
   ]
  },
  {
   "cell_type": "code",
   "execution_count": 106,
   "metadata": {
    "collapsed": true
   },
   "outputs": [],
   "source": [
    "import random"
   ]
  },
  {
   "cell_type": "code",
   "execution_count": 116,
   "metadata": {
    "collapsed": false
   },
   "outputs": [
    {
     "data": {
      "text/plain": [
       "-5"
      ]
     },
     "execution_count": 116,
     "metadata": {},
     "output_type": "execute_result"
    }
   ],
   "source": [
    "random.randint(-10,10)"
   ]
  },
  {
   "cell_type": "code",
   "execution_count": 117,
   "metadata": {
    "collapsed": false
   },
   "outputs": [
    {
     "name": "stdout",
     "output_type": "stream",
     "text": [
      "100\n"
     ]
    }
   ],
   "source": [
    "randomNumbers = []\n",
    "\n",
    "for i in range(100):\n",
    "    randomNumbers.append(random.randint(-10,10))\n",
    "    \n",
    "print len(randomNumbers)"
   ]
  },
  {
   "cell_type": "code",
   "execution_count": 124,
   "metadata": {
    "collapsed": false
   },
   "outputs": [
    {
     "name": "stdout",
     "output_type": "stream",
     "text": [
      "263 -272\n"
     ]
    }
   ],
   "source": [
    "sumPositives = 0\n",
    "sumNegatives = 0\n",
    "\n",
    "for i in range(100):\n",
    "    \n",
    "    num = random.randint(-10,10)\n",
    "    \n",
    "    if num > 0:\n",
    "        sumPositives = sumPositives + num\n",
    "    else:\n",
    "        sumNegatives = sumNegatives + num  \n",
    "        \n",
    "print sumPositives, sumNegatives"
   ]
  },
  {
   "cell_type": "code",
   "execution_count": null,
   "metadata": {
    "collapsed": true
   },
   "outputs": [],
   "source": []
  }
 ],
 "metadata": {
  "kernelspec": {
   "display_name": "Python 2",
   "language": "python",
   "name": "python2"
  },
  "language_info": {
   "codemirror_mode": {
    "name": "ipython",
    "version": 2
   },
   "file_extension": ".py",
   "mimetype": "text/x-python",
   "name": "python",
   "nbconvert_exporter": "python",
   "pygments_lexer": "ipython2",
   "version": "2.7.11"
  }
 },
 "nbformat": 4,
 "nbformat_minor": 0
}
